{
 "cells": [
  {
   "cell_type": "code",
   "execution_count": 14,
   "metadata": {},
   "outputs": [],
   "source": [
    "import csulb_seq_data as sd\n",
    "from csulb_seq_mltools import *\n",
    "import pandas as pd"
   ]
  },
  {
   "cell_type": "code",
   "execution_count": 1,
   "metadata": {},
   "outputs": [
    {
     "name": "stdout",
     "output_type": "stream",
     "text": [
      "Enter username: japitz\n",
      "Enter password: ········\n"
     ]
    },
    {
     "name": "stderr",
     "output_type": "stream",
     "text": [
      "/localhome/exx/Workspace/csulb-student-engine/csulb_seq_data.py:368: SettingWithCopyWarning: \n",
      "A value is trying to be set on a copy of a slice from a DataFrame\n",
      "\n",
      "See the caveats in the documentation: http://pandas.pydata.org/pandas-docs/stable/indexing.html#indexing-view-versus-copy\n",
      "  seq['TRAIN0'].drop_duplicates(inplace=True)\n",
      "/localhome/exx/Workspace/csulb-student-engine/csulb_seq_data.py:370: SettingWithCopyWarning: \n",
      "A value is trying to be set on a copy of a slice from a DataFrame\n",
      "\n",
      "See the caveats in the documentation: http://pandas.pydata.org/pandas-docs/stable/indexing.html#indexing-view-versus-copy\n",
      "  seq['DEV0'].drop_duplicates(inplace=True)\n"
     ]
    }
   ],
   "source": [
    "data = sd.DataGenerator()\n",
    "df = data.genDataFrame()"
   ]
  },
  {
   "cell_type": "code",
   "execution_count": 102,
   "metadata": {},
   "outputs": [
    {
     "name": "stdout",
     "output_type": "stream",
     "text": [
      "The dimensions of the training set t_0 are 14196 rows and 52 columns.\n",
      "The dimensions of the dev set t_0 are 1606 rows and 52 columns.\n"
     ]
    }
   ],
   "source": [
    "print('The dimensions of the training set t_0 are {} rows and {} columns.'.format(df['TRAIN0'].shape[0],df['TRAIN0'].shape[1]))\n",
    "print('The dimensions of the dev set t_0 are {} rows and {} columns.'.format(df['DEV0'].shape[0],df['DEV0'].shape[1]))"
   ]
  },
  {
   "cell_type": "code",
   "execution_count": 103,
   "metadata": {},
   "outputs": [
    {
     "name": "stdout",
     "output_type": "stream",
     "text": [
      "The dimensions of the training set t_1 are 14467 rows and 87 columns.\n",
      "The dimensions of the dev set t_1 are 1639 rows and 87 columns.\n"
     ]
    }
   ],
   "source": [
    "print('The dimensions of the training set t_1 are {} rows and {} columns.'.format(df['TRAIN1'].shape[0],df['TRAIN1'].shape[1]))\n",
    "print('The dimensions of the dev set t_1 are {} rows and {} columns.'.format(df['DEV1'].shape[0],df['DEV1'].shape[1]))"
   ]
  },
  {
   "cell_type": "code",
   "execution_count": 104,
   "metadata": {},
   "outputs": [
    {
     "data": {
      "text/plain": [
       "dict_keys(['TRAIN0', 'DEV0', 'TRAIN1', 'DEV1', 'TRAIN2', 'DEV2', 'TRAIN3', 'DEV3', 'TRAIN4', 'DEV4', 'TRAIN5', 'DEV5', 'TRAIN6', 'DEV6', 'TRAIN7', 'DEV7', 'TRAIN8', 'DEV8', 'TRAIN9', 'DEV9', 'TRAIN10', 'DEV10', 'TRAIN11', 'DEV11', 'TRAIN12', 'DEV12', 'TRAIN13', 'DEV13', 'TRAIN14', 'DEV14', 'TRAIN15', 'DEV15', 'TRAIN16', 'DEV16', 'TRAIN17', 'DEV17', 'TRAIN18', 'DEV18', 'TRAIN19', 'DEV19', 'TRAIN20', 'DEV20'])"
      ]
     },
     "execution_count": 104,
     "metadata": {},
     "output_type": "execute_result"
    }
   ],
   "source": [
    "df.keys()"
   ]
  },
  {
   "cell_type": "code",
   "execution_count": 105,
   "metadata": {},
   "outputs": [],
   "source": [
    "pd.options.display.max_columns = None"
   ]
  },
  {
   "cell_type": "code",
   "execution_count": 106,
   "metadata": {},
   "outputs": [
    {
     "data": {
      "text/html": [
       "<div>\n",
       "<style scoped>\n",
       "    .dataframe tbody tr th:only-of-type {\n",
       "        vertical-align: middle;\n",
       "    }\n",
       "\n",
       "    .dataframe tbody tr th {\n",
       "        vertical-align: top;\n",
       "    }\n",
       "\n",
       "    .dataframe thead th {\n",
       "        text-align: right;\n",
       "    }\n",
       "</style>\n",
       "<table border=\"1\" class=\"dataframe\">\n",
       "  <thead>\n",
       "    <tr style=\"text-align: right;\">\n",
       "      <th></th>\n",
       "      <th>COHORT</th>\n",
       "      <th>EMPLID</th>\n",
       "      <th>GPA_HS</th>\n",
       "      <th>GENDR_M</th>\n",
       "      <th>AFRICAN AMERICAN</th>\n",
       "      <th>ASIAN AMERICAN</th>\n",
       "      <th>CAUCASIAN</th>\n",
       "      <th>LATINO/LATINA</th>\n",
       "      <th>NATIVE AMERICAN</th>\n",
       "      <th>PACIFIC ISLANDER</th>\n",
       "      <th>TWO OR MORE RACES, INCLUDING MINORITY</th>\n",
       "      <th>TWO OR MORE RACES, NON-MINORITIES</th>\n",
       "      <th>ETHNICITY UNKNOWN</th>\n",
       "      <th>VISA NON U.S.</th>\n",
       "      <th>CONTINUING GENERATION STUDENT</th>\n",
       "      <th>FIRST GENERATION STUDENT</th>\n",
       "      <th>FIRST GENERATION UNKNOWN</th>\n",
       "      <th>DEP_FAM_1</th>\n",
       "      <th>DEP_FAM_10</th>\n",
       "      <th>DEP_FAM_12</th>\n",
       "      <th>DEP_FAM_15</th>\n",
       "      <th>DEP_FAM_2</th>\n",
       "      <th>DEP_FAM_25</th>\n",
       "      <th>DEP_FAM_3</th>\n",
       "      <th>DEP_FAM_4</th>\n",
       "      <th>DEP_FAM_5</th>\n",
       "      <th>DEP_FAM_6</th>\n",
       "      <th>DEP_FAM_7</th>\n",
       "      <th>DEP_FAM_8</th>\n",
       "      <th>DEP_FAM_9</th>\n",
       "      <th>DEP_FAM_NA</th>\n",
       "      <th>URM_MINORITY</th>\n",
       "      <th>URM_NON-MINORITY</th>\n",
       "      <th>APP_FAM_1</th>\n",
       "      <th>APP_FAM_2</th>\n",
       "      <th>APP_FAM_3</th>\n",
       "      <th>APP_FAM_6</th>\n",
       "      <th>APP_FAM_NA</th>\n",
       "      <th>INCM_$12,000 TO $23,999</th>\n",
       "      <th>INCM_$6,000 TO $11,999</th>\n",
       "      <th>INCM_$60,000 OR MORE</th>\n",
       "      <th>INCM_LESS THEN $6000</th>\n",
       "      <th>PELL_NON TRADITIONAL</th>\n",
       "      <th>PELL_TRADITIONAL</th>\n",
       "      <th>GRAD_IN_2.5</th>\n",
       "      <th>GRAD_IN_3.0</th>\n",
       "      <th>GRAD_IN_3.5</th>\n",
       "      <th>GRAD_IN_4.0</th>\n",
       "      <th>GRAD_IN_4.5</th>\n",
       "      <th>GRAD_IN_5.0</th>\n",
       "      <th>GRAD_IN_5.5</th>\n",
       "      <th>GRAD_IN_6.0</th>\n",
       "    </tr>\n",
       "  </thead>\n",
       "  <tbody>\n",
       "    <tr>\n",
       "      <th>0</th>\n",
       "      <td>2124</td>\n",
       "      <td>010705940</td>\n",
       "      <td>336.0</td>\n",
       "      <td>0</td>\n",
       "      <td>0</td>\n",
       "      <td>0</td>\n",
       "      <td>0</td>\n",
       "      <td>1</td>\n",
       "      <td>0</td>\n",
       "      <td>0</td>\n",
       "      <td>0</td>\n",
       "      <td>0</td>\n",
       "      <td>0</td>\n",
       "      <td>0</td>\n",
       "      <td>0</td>\n",
       "      <td>1</td>\n",
       "      <td>0</td>\n",
       "      <td>0</td>\n",
       "      <td>0</td>\n",
       "      <td>0</td>\n",
       "      <td>0</td>\n",
       "      <td>0</td>\n",
       "      <td>0</td>\n",
       "      <td>1</td>\n",
       "      <td>0</td>\n",
       "      <td>0</td>\n",
       "      <td>0</td>\n",
       "      <td>0</td>\n",
       "      <td>0</td>\n",
       "      <td>0</td>\n",
       "      <td>0</td>\n",
       "      <td>1</td>\n",
       "      <td>0</td>\n",
       "      <td>0</td>\n",
       "      <td>0</td>\n",
       "      <td>0</td>\n",
       "      <td>0</td>\n",
       "      <td>1</td>\n",
       "      <td>0</td>\n",
       "      <td>0</td>\n",
       "      <td>0</td>\n",
       "      <td>0</td>\n",
       "      <td>0</td>\n",
       "      <td>1</td>\n",
       "      <td>0</td>\n",
       "      <td>0</td>\n",
       "      <td>0</td>\n",
       "      <td>0</td>\n",
       "      <td>0</td>\n",
       "      <td>1</td>\n",
       "      <td>0</td>\n",
       "      <td>0</td>\n",
       "    </tr>\n",
       "  </tbody>\n",
       "</table>\n",
       "</div>"
      ],
      "text/plain": [
       "  COHORT     EMPLID  GPA_HS  GENDR_M  AFRICAN AMERICAN  ASIAN AMERICAN  \\\n",
       "0   2124  010705940   336.0        0                 0               0   \n",
       "\n",
       "   CAUCASIAN  LATINO/LATINA  NATIVE AMERICAN  PACIFIC ISLANDER  \\\n",
       "0          0              1                0                 0   \n",
       "\n",
       "   TWO OR MORE RACES, INCLUDING MINORITY  TWO OR MORE RACES, NON-MINORITIES  \\\n",
       "0                                      0                                  0   \n",
       "\n",
       "   ETHNICITY UNKNOWN  VISA NON U.S.  CONTINUING GENERATION STUDENT  \\\n",
       "0                  0              0                              0   \n",
       "\n",
       "   FIRST GENERATION STUDENT  FIRST GENERATION UNKNOWN  DEP_FAM_1  DEP_FAM_10  \\\n",
       "0                         1                         0          0           0   \n",
       "\n",
       "   DEP_FAM_12  DEP_FAM_15  DEP_FAM_2  DEP_FAM_25  DEP_FAM_3  DEP_FAM_4  \\\n",
       "0           0           0          0           0          1          0   \n",
       "\n",
       "   DEP_FAM_5  DEP_FAM_6  DEP_FAM_7  DEP_FAM_8  DEP_FAM_9  DEP_FAM_NA  \\\n",
       "0          0          0          0          0          0           0   \n",
       "\n",
       "   URM_MINORITY  URM_NON-MINORITY  APP_FAM_1  APP_FAM_2  APP_FAM_3  APP_FAM_6  \\\n",
       "0             1                 0          0          0          0          0   \n",
       "\n",
       "   APP_FAM_NA  INCM_$12,000 TO $23,999  INCM_$6,000 TO $11,999  \\\n",
       "0           1                        0                       0   \n",
       "\n",
       "   INCM_$60,000 OR MORE  INCM_LESS THEN $6000  PELL_NON TRADITIONAL  \\\n",
       "0                     0                     0                     0   \n",
       "\n",
       "   PELL_TRADITIONAL  GRAD_IN_2.5  GRAD_IN_3.0  GRAD_IN_3.5  GRAD_IN_4.0  \\\n",
       "0                 1            0            0            0            0   \n",
       "\n",
       "   GRAD_IN_4.5  GRAD_IN_5.0  GRAD_IN_5.5  GRAD_IN_6.0  \n",
       "0            0            1            0            0  "
      ]
     },
     "execution_count": 106,
     "metadata": {},
     "output_type": "execute_result"
    }
   ],
   "source": [
    "df['TRAIN0'][df['TRAIN0']['EMPLID']=='010705940']"
   ]
  },
  {
   "cell_type": "code",
   "execution_count": 107,
   "metadata": {},
   "outputs": [],
   "source": [
    "id_var = ['COHORT', 'EMPLID']\n",
    "\n",
    "perf_var = ['TERM_CODE', 'SEMESTER_INDEX', 'EOT_ACAD_PLAN_CD', 'MAJOR_CHANGE_INDICATOR','MAJOR_CHANGE_CNT',\n",
    "            'UNITS_TAKEN','BCMP', 'A', 'AU', 'B' ,'C','CR', 'D', 'F', 'I', 'NC', 'RP', 'W', 'WE', 'WU', 'SUMMER', \n",
    "            'CUM_BCMP', 'CUM_SUMMER', 'CUM_WINTER', 'TERM_GPA','CUM_GPA', 'BCMP_TERM_GPA', 'BCMP_CUM_GPA',\n",
    "            'COMPLETION_RATE', 'LOAD_INDEX_EXCLUDE', 'LOAD_INDEX_ONLY','DFW_RATE','T_COMP', 'T_READ','T_MATH']\n",
    "\n",
    "dem_var = ['GPA_HS', 'GENDR_M', 'AFRICAN AMERICAN','ASIAN AMERICAN', 'CAUCASIAN', 'LATINO/LATINA', \n",
    "           'NATIVE AMERICAN','PACIFIC ISLANDER', 'TWO OR MORE RACES, INCLUDING MINORITY',\n",
    "           'TWO OR MORE RACES, NON-MINORITIES', 'ETHNICITY UNKNOWN', 'VISA NON U.S.','CONTINUING GENERATION STUDENT', \n",
    "           'FIRST GENERATION STUDENT', 'FIRST GENERATION UNKNOWN','DEP_FAM_1', 'DEP_FAM_10', 'DEP_FAM_12', 'DEP_FAM_15', 'DEP_FAM_2',\n",
    "           'DEP_FAM_25', 'DEP_FAM_3', 'DEP_FAM_4', 'DEP_FAM_5', 'DEP_FAM_6','DEP_FAM_7', 'DEP_FAM_8', 'DEP_FAM_9', \n",
    "           'DEP_FAM_NA', 'URM_MINORITY','URM_NON-MINORITY', 'APP_FAM_1',\n",
    "           'APP_FAM_2', 'APP_FAM_3', 'APP_FAM_6', 'APP_FAM_NA','INCM_$12,000 TO $23,999', 'INCM_$6,000 TO $11,999',\n",
    "           'INCM_$60,000 OR MORE', 'INCM_LESS THEN $6000', 'PELL_NON TRADITIONAL', \n",
    "           'PELL_TRADITIONAL']\n",
    "\n",
    "resp_var = ['GRAD_IN_2.5','GRAD_IN_3.0', 'GRAD_IN_3.5', 'GRAD_IN_4.0', 'GRAD_IN_4.5','GRAD_IN_5.0', 'GRAD_IN_5.5', \n",
    "          'GRAD_IN_6.0']"
   ]
  },
  {
   "cell_type": "code",
   "execution_count": 108,
   "metadata": {},
   "outputs": [],
   "source": [
    "var = [\n",
    "    \n",
    "       'MAJOR_CHANGE_CNT', 'SUMMER','TERM_GPA','BCMP_TERM_GPA','COMPLETION_RATE', 'LOAD_INDEX_EXCLUDE', \n",
    "       'LOAD_INDEX_ONLY', 'DFW_RATE', 'GPA_HS','GENDR_M', 'AFRICAN AMERICAN',\n",
    "       'ASIAN AMERICAN', 'CAUCASIAN', 'LATINO/LATINA', 'NATIVE AMERICAN', 'PACIFIC ISLANDER', \n",
    "       'TWO OR MORE RACES, INCLUDING MINORITY',\n",
    "       'TWO OR MORE RACES, NON-MINORITIES', 'ETHNICITY UNKNOWN', 'VISA NON U.S.',\n",
    "       'CONTINUING GENERATION STUDENT', 'FIRST GENERATION STUDENT', 'FIRST GENERATION UNKNOWN',\n",
    "       'DEP_FAM_1', 'DEP_FAM_10', 'DEP_FAM_12', 'DEP_FAM_15', 'DEP_FAM_2',\n",
    "       'DEP_FAM_25', 'DEP_FAM_3', 'DEP_FAM_4', 'DEP_FAM_5', 'DEP_FAM_6',\n",
    "       'DEP_FAM_7', 'DEP_FAM_8', 'DEP_FAM_9', 'DEP_FAM_NA', 'URM_MINORITY',\n",
    "       'URM_NON-MINORITY', 'APP_FAM_1',\n",
    "       'APP_FAM_2', 'APP_FAM_3', 'APP_FAM_6', 'APP_FAM_NA',\n",
    "       'INCM_$12,000 TO $23,999', 'INCM_$6,000 TO $11,999',\n",
    "       'INCM_$60,000 OR MORE', 'INCM_LESS THEN $6000', \n",
    "       'PELL_NON TRADITIONAL', 'PELL_TRADITIONAL', 'T_COMP', 'T_READ',\n",
    "       'T_MATH'\n",
    "    \n",
    "]\n",
    "\n",
    "\n",
    "var2 = [\n",
    "    \n",
    "       'MAJOR_CHANGE_CNT', 'A', 'AU', 'B',\n",
    "       'C', 'CR', 'D', 'F', 'I', 'NC', 'RP', 'W', 'WE', 'WU', 'SUMMER',\n",
    "       'WINTER', 'CUM_SUMMER', 'CUM_WINTER', 'CUM_GPA', 'BCMP_CUM_GPA', 'COMPLETION_RATE', \n",
    "       'LOAD_INDEX_EXCLUDE', 'LOAD_INDEX_ONLY', 'DFW_RATE', 'GPA_HS'\n",
    "    \n",
    "]\n",
    "\n",
    "var3 = [\n",
    "    \n",
    "       'MAJOR_CHANGE_CNT', 'SUMMER',\n",
    "       'WINTER', 'CUM_SUMMER', 'CUM_WINTER', 'CUM_GPA', 'BCMP_CUM_GPA', \n",
    "       'LOAD_INDEX_EXCLUDE', 'LOAD_INDEX_ONLY', 'DFW_RATE', 'GPA_HS'\n",
    "    \n",
    "]"
   ]
  },
  {
   "cell_type": "markdown",
   "metadata": {},
   "source": [
    "### Logistic"
   ]
  },
  {
   "cell_type": "code",
   "execution_count": 137,
   "metadata": {},
   "outputs": [
    {
     "data": {
      "text/plain": [
       "<module 'csulb_seq_mltools' from '/localhome/exx/Workspace/csulb-student-engine/csulb_seq_mltools.py'>"
      ]
     },
     "execution_count": 137,
     "metadata": {},
     "output_type": "execute_result"
    }
   ],
   "source": [
    "import csulb_seq_mltools as mc\n",
    "import importlib\n",
    "importlib.reload(csulb_seq_mltools)"
   ]
  },
  {
   "cell_type": "code",
   "execution_count": 138,
   "metadata": {},
   "outputs": [],
   "source": [
    "X_train,y_train,X_dev,y_dev = mc.seq_data(df, t=0, time_to_grad=4, features=dem_var)"
   ]
  },
  {
   "cell_type": "code",
   "execution_count": 139,
   "metadata": {},
   "outputs": [],
   "source": [
    "log_mod = LogisticRegression(solver='lbfgs', max_iter=10000, random_state = None)"
   ]
  },
  {
   "cell_type": "code",
   "execution_count": 140,
   "metadata": {},
   "outputs": [
    {
     "name": "stdout",
     "output_type": "stream",
     "text": [
      "\n",
      "accuracy on the dev set is: 0.8586550435865504\n",
      "\n",
      "accuracy on the train set is: 0.8558044519582981\n",
      "\n",
      "confusion matrix:\n",
      "\n",
      "[[1379    1]\n",
      " [ 226    0]]\n",
      "\n",
      "classification report:\n",
      "\n",
      "              precision    recall  f1-score   support\n",
      "\n",
      "           0       0.86      1.00      0.92      1380\n",
      "           1       0.00      0.00      0.00       226\n",
      "\n",
      "    accuracy                           0.86      1606\n",
      "   macro avg       0.43      0.50      0.46      1606\n",
      "weighted avg       0.74      0.86      0.79      1606\n",
      "\n",
      "the runtime is 0.010241965452829996 minutes\n"
     ]
    }
   ],
   "source": [
    "t0_log_accuracy = mc.run_model(model=log_mod,X_train=X_train,y_train=y_train,X_dev=X_dev,y_dev=y_dev,grid=None,label='logistic @ t0')"
   ]
  },
  {
   "cell_type": "code",
   "execution_count": 141,
   "metadata": {},
   "outputs": [],
   "source": [
    "accuracy_matrix = pd.DataFrame()\n",
    "accuracy_matrix = accuracy_matrix.append(pd.DataFrame(t0_log_accuracy), sort=False)"
   ]
  },
  {
   "cell_type": "code",
   "execution_count": 142,
   "metadata": {},
   "outputs": [
    {
     "data": {
      "text/html": [
       "<div>\n",
       "<style scoped>\n",
       "    .dataframe tbody tr th:only-of-type {\n",
       "        vertical-align: middle;\n",
       "    }\n",
       "\n",
       "    .dataframe tbody tr th {\n",
       "        vertical-align: top;\n",
       "    }\n",
       "\n",
       "    .dataframe thead th {\n",
       "        text-align: right;\n",
       "    }\n",
       "</style>\n",
       "<table border=\"1\" class=\"dataframe\">\n",
       "  <thead>\n",
       "    <tr style=\"text-align: right;\">\n",
       "      <th></th>\n",
       "      <th>model</th>\n",
       "      <th>dev accuracy</th>\n",
       "      <th>training accuracy</th>\n",
       "    </tr>\n",
       "  </thead>\n",
       "  <tbody>\n",
       "    <tr>\n",
       "      <th>0</th>\n",
       "      <td>logistic @ t0</td>\n",
       "      <td>0.858655</td>\n",
       "      <td>0.855804</td>\n",
       "    </tr>\n",
       "  </tbody>\n",
       "</table>\n",
       "</div>"
      ],
      "text/plain": [
       "           model  dev accuracy  training accuracy\n",
       "0  logistic @ t0      0.858655           0.855804"
      ]
     },
     "execution_count": 142,
     "metadata": {},
     "output_type": "execute_result"
    }
   ],
   "source": [
    "accuracy_matrix.reset_index(inplace=True,drop=True)\n",
    "accuracy_matrix"
   ]
  },
  {
   "cell_type": "markdown",
   "metadata": {},
   "source": [
    "### XGBoost"
   ]
  },
  {
   "cell_type": "code",
   "execution_count": 160,
   "metadata": {},
   "outputs": [],
   "source": [
    "epochs=17\n",
    "random_state = 42"
   ]
  },
  {
   "cell_type": "code",
   "execution_count": 161,
   "metadata": {},
   "outputs": [
    {
     "name": "stdout",
     "output_type": "stream",
     "text": [
      "[0]\teval-auc:0.891432\ttrain-auc:0.891663\n",
      "[1]\teval-auc:0.921845\ttrain-auc:0.924435\n",
      "[2]\teval-auc:0.937192\ttrain-auc:0.941545\n",
      "[3]\teval-auc:0.943948\ttrain-auc:0.949509\n",
      "[4]\teval-auc:0.950247\ttrain-auc:0.955247\n",
      "[5]\teval-auc:0.950155\ttrain-auc:0.957342\n",
      "[6]\teval-auc:0.952466\ttrain-auc:0.959289\n",
      "[7]\teval-auc:0.953018\ttrain-auc:0.960518\n",
      "[8]\teval-auc:0.951643\ttrain-auc:0.962296\n",
      "[9]\teval-auc:0.951888\ttrain-auc:0.963962\n",
      "[10]\teval-auc:0.951997\ttrain-auc:0.964689\n",
      "[11]\teval-auc:0.953303\ttrain-auc:0.966469\n",
      "[12]\teval-auc:0.953439\ttrain-auc:0.968114\n",
      "[13]\teval-auc:0.953026\ttrain-auc:0.96919\n",
      "[14]\teval-auc:0.953144\ttrain-auc:0.970128\n",
      "[15]\teval-auc:0.953299\ttrain-auc:0.970602\n",
      "[16]\teval-auc:0.954015\ttrain-auc:0.971789\n",
      "\n",
      "accuracy on the dev set is: 0.9034090909090909\n",
      "\n",
      "accuracy on the train set is: 0.9176237463604011\n",
      "\n",
      "confusion matrix:\n",
      "\n",
      " [[1359   49]\n",
      " [ 223 1185]]\n",
      "\n",
      "classification report:\n",
      "\n",
      "              precision    recall  f1-score   support\n",
      "\n",
      "           0       0.86      0.97      0.91      1408\n",
      "           1       0.96      0.84      0.90      1408\n",
      "\n",
      "    accuracy                           0.90      2816\n",
      "   macro avg       0.91      0.90      0.90      2816\n",
      "weighted avg       0.91      0.90      0.90      2816\n",
      "\n"
     ]
    }
   ],
   "source": [
    "X_train,y_train,X_dev,y_dev = mc.seq_data(df, t=1, time_to_grad=4, features=var, balance=True)\n",
    "metrics,_ = mc.run_model_xgb(X_train=X_train,y_train=y_train,X_dev=X_dev,y_dev=y_dev,label='xgb@t0',num_round=epochs)"
   ]
  },
  {
   "cell_type": "code",
   "execution_count": 162,
   "metadata": {},
   "outputs": [
    {
     "data": {
      "text/plain": [
       "(24728, 53)"
      ]
     },
     "execution_count": 162,
     "metadata": {},
     "output_type": "execute_result"
    }
   ],
   "source": [
    "X_train.shape"
   ]
  },
  {
   "cell_type": "markdown",
   "metadata": {},
   "source": [
    "### Neural Net"
   ]
  },
  {
   "cell_type": "code",
   "execution_count": 164,
   "metadata": {},
   "outputs": [],
   "source": [
    "X_train,y_train,X_dev,y_dev = mc.seq_data(df, t=1, time_to_grad=4, features=var, balance=True)"
   ]
  },
  {
   "cell_type": "code",
   "execution_count": 175,
   "metadata": {},
   "outputs": [
    {
     "name": "stdout",
     "output_type": "stream",
     "text": [
      "Epoch 1/6\n",
      "24728/24728 [==============================] - 2s 98us/sample - loss: 0.7229 - acc: 0.6033\n",
      "Epoch 2/6\n",
      "24728/24728 [==============================] - 2s 97us/sample - loss: 0.6996 - acc: 0.6305\n",
      "Epoch 3/6\n",
      "24728/24728 [==============================] - 2s 96us/sample - loss: 0.6768 - acc: 0.6386\n",
      "Epoch 4/6\n",
      "24728/24728 [==============================] - 2s 94us/sample - loss: 0.6408 - acc: 0.6521\n",
      "Epoch 5/6\n",
      "24728/24728 [==============================] - 2s 96us/sample - loss: 0.6754 - acc: 0.6377\n",
      "Epoch 6/6\n",
      "24728/24728 [==============================] - 2s 96us/sample - loss: 0.6623 - acc: 0.6463\n",
      "2816/2816 [==============================] - 0s 63us/sample - loss: 0.5787 - acc: 0.6960\n"
     ]
    },
    {
     "data": {
      "text/plain": [
       "[0.5787307667461309, 0.69602275]"
      ]
     },
     "execution_count": 175,
     "metadata": {},
     "output_type": "execute_result"
    }
   ],
   "source": [
    "model = tf.keras.models.Sequential([\n",
    "  tf.keras.layers.Dense(256, activation='relu'),\n",
    "  tf.keras.layers.Dense(2, activation='softmax')\n",
    "])\n",
    "\n",
    "model.compile(optimizer='adam',\n",
    "              loss='sparse_categorical_crossentropy',\n",
    "              metrics=['accuracy'])\n",
    "\n",
    "model.fit(X_train, y_train, epochs=6)\n",
    "model.evaluate(X_dev, y_dev)"
   ]
  },
  {
   "cell_type": "code",
   "execution_count": null,
   "metadata": {},
   "outputs": [],
   "source": []
  }
 ],
 "metadata": {
  "kernelspec": {
   "display_name": "Python 3",
   "language": "python",
   "name": "python3"
  },
  "language_info": {
   "codemirror_mode": {
    "name": "ipython",
    "version": 3
   },
   "file_extension": ".py",
   "mimetype": "text/x-python",
   "name": "python",
   "nbconvert_exporter": "python",
   "pygments_lexer": "ipython3",
   "version": "3.7.3"
  }
 },
 "nbformat": 4,
 "nbformat_minor": 2
}
